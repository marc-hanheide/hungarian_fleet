{
 "cells": [
  {
   "cell_type": "code",
   "execution_count": 169,
   "metadata": {},
   "outputs": [],
   "source": [
    "import numpy as np\n",
    "from scipy.optimize import linear_sum_assignment\n",
    "from itertools import combinations\n",
    "\n",
    "\n",
    "class Assignment():\n",
    "\n",
    "    robot_places = np.array([1, 6])\n",
    "    picker_places = np.array([1, 3, 2, 6, 7, 9, 0])\n",
    "\n",
    "    min_place = 0\n",
    "    max_place = 2\n",
    "\n",
    "\n",
    "    def search(self):\n",
    "        n_robots = self.robot_places.size\n",
    "        cs = list(combinations(range(self.min_place,self.max_place + 1), n_robots))\n",
    "        for c in cs:\n",
    "            self.robot_places = np.array(c)\n",
    "            self.compute_cost_matrices()\n",
    "            self.compute_assignment()\n",
    "            self.show_allocation()\n",
    "\n",
    "        \n",
    "\n",
    "    def show_allocation(self):\n",
    "        rows = self.assignment[0]\n",
    "        cols = self.assignment[1]\n",
    "        n_robots = self.robot_places.size\n",
    "        for i in range(0, len(cols)):\n",
    "            if cols[i] < n_robots:\n",
    "                print(f'robot {cols[i]} serves picker {rows[i]}.')\n",
    "            else:\n",
    "                print(f'picker {rows[i]} is currently not served')\n",
    "        c = self.cost[rows, cols].sum()\n",
    "        print(f'total costs: {c}')\n",
    "        return c\n",
    "\n",
    "    def compute_cost_matrices(self):\n",
    "        # repeat the positions as columns and rows to prepare for diff\n",
    "        self.robot_places_mat = np.tile(self.robot_places, (self.picker_places.size,1))\n",
    "        #robot_places_mat = np.append(robot_places_mat, np.zeros((picker_places.,)), axis=1)\n",
    "        self.picker_places_mat = np.tile(self.picker_places, (self.robot_places.size,1)).transpose()\n",
    "\n",
    "        #display('robot_places_mat: ', self.robot_places_mat)\n",
    "        #display('picker_places_mat: ', self.picker_places_mat)\n",
    "\n",
    "        # calculate costs simply as \n",
    "        self.cost = np.abs(self.picker_places_mat - self.robot_places_mat)\n",
    "\n",
    "        # add zero costs for unassigned relations (make it square)\n",
    "        self.cost = np.append(self.cost, np.zeros((self.picker_places.size,self.picker_places.size - self.robot_places.size)), axis=1)\n",
    "        #display('costs (rows: pickers, columns: robots): ', self.cost)\n",
    "\n",
    "\n",
    "    def compute_assignment(self):\n",
    "        self.assignment = linear_sum_assignment(self.cost)\n",
    "\n",
    "\n"
   ]
  },
  {
   "cell_type": "code",
   "execution_count": 170,
   "metadata": {},
   "outputs": [
    {
     "name": "stdout",
     "output_type": "stream",
     "text": [
      "robot 0 serves picker 0.\n",
      "picker 1 is currently not served\n",
      "picker 2 is currently not served\n",
      "robot 1 serves picker 3.\n",
      "picker 4 is currently not served\n",
      "picker 5 is currently not served\n",
      "picker 6 is currently not served\n",
      "total costs: 0.0\n"
     ]
    },
    {
     "data": {
      "text/plain": [
       "0.0"
      ]
     },
     "execution_count": 170,
     "metadata": {},
     "output_type": "execute_result"
    }
   ],
   "source": [
    "ac = Assignment()\n",
    "ac.compute_cost_matrices()\n",
    "ac.compute_assignment()\n",
    "ac.show_allocation()\n",
    "#ac.search()"
   ]
  },
  {
   "cell_type": "code",
   "execution_count": 171,
   "metadata": {},
   "outputs": [
    {
     "data": {
      "text/plain": [
       "array([[0, 0, 0, ..., 8, 8, 8],\n",
       "       [0, 0, 0, ..., 8, 8, 8],\n",
       "       [0, 1, 2, ..., 6, 7, 8]])"
      ]
     },
     "execution_count": 171,
     "metadata": {},
     "output_type": "execute_result"
    }
   ],
   "source": [
    "np.mgrid[0:9, 0:9, 0:9].reshape(3,-1)"
   ]
  },
  {
   "cell_type": "code",
   "execution_count": null,
   "metadata": {},
   "outputs": [],
   "source": []
  },
  {
   "cell_type": "code",
   "execution_count": null,
   "metadata": {},
   "outputs": [],
   "source": []
  },
  {
   "cell_type": "code",
   "execution_count": null,
   "metadata": {},
   "outputs": [],
   "source": []
  }
 ],
 "metadata": {
  "kernelspec": {
   "display_name": "Python 3",
   "language": "python",
   "name": "python3"
  },
  "language_info": {
   "codemirror_mode": {
    "name": "ipython",
    "version": 3
   },
   "file_extension": ".py",
   "mimetype": "text/x-python",
   "name": "python",
   "nbconvert_exporter": "python",
   "pygments_lexer": "ipython3",
   "version": "3.9.13"
  },
  "orig_nbformat": 4
 },
 "nbformat": 4,
 "nbformat_minor": 2
}
