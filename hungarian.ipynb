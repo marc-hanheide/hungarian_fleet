{
 "cells": [
  {
   "cell_type": "code",
   "execution_count": 3,
   "metadata": {},
   "outputs": [],
   "source": [
    "import numpy as np\n",
    "from scipy.optimize import linear_sum_assignment\n",
    "from itertools import combinations\n",
    "\n",
    "\n",
    "class Assignment():\n",
    "\n",
    "    robot_places = np.array([1, 1, 1, 6, 6, 6])\n",
    "    picker_places = np.array([1, 3, 2, 6, 7, 9, 0])\n",
    "\n",
    "    min_place = 0\n",
    "    max_place = 2\n",
    "\n",
    "\n",
    "    def search(self):\n",
    "        n_robots = self.robot_places.size\n",
    "        cs = list(combinations(range(self.min_place,self.max_place + 1), n_robots))\n",
    "        for c in cs:\n",
    "            self.robot_places = np.array(c)\n",
    "            self.compute_cost_matrices()\n",
    "            self.compute_assignment()\n",
    "            self.show_allocation()\n",
    "\n",
    "        \n",
    "\n",
    "    def show_allocation(self):\n",
    "        rows = self.assignment[0]\n",
    "        cols = self.assignment[1]\n",
    "        n_robots = self.robot_places.size\n",
    "        for i in range(0, len(cols)):\n",
    "            if cols[i] < n_robots:\n",
    "                print(f'robot {cols[i]} serves picker {rows[i]}.')\n",
    "            else:\n",
    "                print(f'picker {rows[i]} is currently not served')\n",
    "        c = self.cost[rows, cols].sum()\n",
    "        print(f'total costs: {c}')\n",
    "        return c\n",
    "\n",
    "    def compute_cost_matrices(self):\n",
    "        # repeat the positions as columns and rows to prepare for diff\n",
    "        self.robot_places_mat = np.tile(self.robot_places, (self.picker_places.size,1))\n",
    "        #robot_places_mat = np.append(robot_places_mat, np.zeros((picker_places.,)), axis=1)\n",
    "        self.picker_places_mat = np.tile(self.picker_places, (self.robot_places.size,1)).transpose()\n",
    "\n",
    "        #display('robot_places_mat: ', self.robot_places_mat)\n",
    "        #display('picker_places_mat: ', self.picker_places_mat)\n",
    "\n",
    "        # calculate costs simply as \n",
    "        self.cost = np.abs(self.picker_places_mat - self.robot_places_mat)\n",
    "\n",
    "        # add zero costs for unassigned relations (make it square)\n",
    "        self.cost = np.append(self.cost, np.zeros((self.picker_places.size,self.picker_places.size - self.robot_places.size)), axis=1)\n",
    "        #display('costs (rows: pickers, columns: robots): ', self.cost)\n",
    "\n",
    "\n",
    "    def compute_assignment(self):\n",
    "        self.assignment = linear_sum_assignment(self.cost)\n",
    "\n",
    "\n"
   ]
  },
  {
   "cell_type": "code",
   "execution_count": 4,
   "metadata": {},
   "outputs": [
    {
     "name": "stdout",
     "output_type": "stream",
     "text": [
      "robot 0 serves picker 0.\n",
      "robot 5 serves picker 1.\n",
      "robot 1 serves picker 2.\n",
      "robot 3 serves picker 3.\n",
      "robot 4 serves picker 4.\n",
      "picker 5 is currently not served\n",
      "robot 2 serves picker 6.\n",
      "total costs: 6.0\n"
     ]
    },
    {
     "data": {
      "text/plain": [
       "6.0"
      ]
     },
     "execution_count": 4,
     "metadata": {},
     "output_type": "execute_result"
    }
   ],
   "source": [
    "ac = Assignment()\n",
    "ac.compute_cost_matrices()\n",
    "ac.compute_assignment()\n",
    "ac.show_allocation()\n",
    "#ac.search()"
   ]
  },
  {
   "cell_type": "code",
   "execution_count": 70,
   "metadata": {},
   "outputs": [
    {
     "name": "stdout",
     "output_type": "stream",
     "text": [
      "[1. 1.]\n",
      "6.0\n",
      "\n",
      "The optimal value is inf\n",
      "A solution x is\n",
      "None\n",
      "A dual solution is\n",
      "None\n"
     ]
    }
   ],
   "source": [
    "# Import packages.\n",
    "import cvxpy as cp\n",
    "import numpy as np\n",
    "\n",
    "# Generate a random non-trivial linear program.\n",
    "m = 3\n",
    "n = 2\n",
    "np.random.seed(1)\n",
    "#s0 = np.array([1,0,1])\n",
    "#lamb0 = np.array([2,1,1])\n",
    "#s0 = np.maximum(s0, 0)\n",
    "#x0 = np.array([0,0])\n",
    "#A = np.random.randn(m, n)\n",
    "distance_matrix = np.array([[0, 1, 2, 3], [1, 0, 1, 2], [2, 1, 0, 1], [3, 2, 1, 0]])\n",
    "allocation = cp.Variable((4,2))\n",
    "example_allocation = np.array([[1, 0, 0, 0], [0, 0, 1, 0]]).T\n",
    "distance_pickers = np.array([[0, 1, 2, 3], [0, 1, 2, 3], [2, 1, 0, 1]])\n",
    "\n",
    "print(cp.sum(example_allocation, axis=0).value)\n",
    "print(cp.sum(distance_pickers@example_allocation).value)\n",
    "#print(example_allocation.T @ example_allocation)\n",
    "\n",
    "\n",
    "#b = np.array([100, 100, 100])\n",
    "# Define and solve the CVXPY problem.\n",
    "x = cp.Variable(n)\n",
    "prob = cp.Problem(cp.Minimize(cp.sum(distance_pickers@allocation)),\n",
    "                 [cp.sum(allocation, axis=0) == 1, cp.sum(allocation, axis=1) == 1])\n",
    "prob.solve(verbose=False)\n",
    "\n",
    "# Print result.\n",
    "print(\"\\nThe optimal value is\", prob.value)\n",
    "print(\"A solution x is\")\n",
    "print(x.value)\n",
    "print(\"A dual solution is\")\n",
    "print(prob.constraints[0].dual_value)\n"
   ]
  },
  {
   "cell_type": "code",
   "execution_count": 393,
   "metadata": {},
   "outputs": [
    {
     "name": "stdout",
     "output_type": "stream",
     "text": [
      "[[2 8]\n",
      " [1 7]\n",
      " [0 6]\n",
      " [6 0]\n",
      " [6 0]\n",
      " [6 0]]\n",
      "\n",
      "The optimal value is 3.000000000062516\n",
      "A solution is\n",
      "[[100.   0.]\n",
      " [100.   0.]\n",
      " [100.   0.]\n",
      " [  0. 100.]\n",
      " [  0. 100.]\n",
      " [  0. 100.]]\n",
      "[[3.0000000e+00 1.8000000e+01]\n",
      " [2.1000000e+01 3.6466995e-11]]\n",
      "residual costs: 7.142857%\n"
     ]
    }
   ],
   "source": [
    "# Import packages.\n",
    "import cvxpy as cp\n",
    "import numpy as np\n",
    "\n",
    "# Generate a random non-trivial linear program.\n",
    "m = 3\n",
    "n = 2\n",
    "np.random.seed(1)\n",
    "#s0 = np.array([1,0,1])\n",
    "#lamb0 = np.array([2,1,1])\n",
    "#s0 = np.maximum(s0, 0)\n",
    "#x0 = np.array([0,0])\n",
    "#A = np.random.randn(m, n)\n",
    "# picker places = 0, 2, 3, 4\n",
    "# robots at 1, 3, 4\n",
    "# r1: \n",
    "def get_costs_assignment(p, r, urgency=None):\n",
    "    # repeat the positions as columns and rows to prepare for diff\n",
    "    r_mat = np.tile(r, (p.size,1))\n",
    "    #robot_places_mat = np.append(robot_places_mat, np.zeros((picker_places.,)), axis=1)\n",
    "    p_mat = np.tile(p, (r.size,1)).transpose()\n",
    "\n",
    "    #display('robot_places_mat: ', r_mat)\n",
    "    #display('picker_places_mat: ', p_mat)\n",
    "\n",
    "    # calculate costs simply as \n",
    "    cost = np.abs(p_mat - r_mat)\n",
    "    if urgency is not None:\n",
    "        cost = cost * np.tile(urgency, (r.size,1)).transpose()\n",
    "\n",
    "    # add zero costs for unassigned relations (make it square)\n",
    "    #cost = np.append(cost, 0*np.ones((p.size, p.size - r.size)), axis=1)\n",
    "    #display('costs (rows: pickers, columns: robots): ', cost)\n",
    "\n",
    "    return cost\n",
    "\n",
    "pickers = np.array([1, 2, 3, 9, 9, 9])\n",
    "urgency = [0.5, 0, 0, 1, 1, 1]\n",
    "robots = np.array([3, 9])\n",
    "\n",
    "cost = get_costs_assignment(pickers, robots, urgency=urgency)\n",
    "#cost = np.array([[0, 1, 2, 3], [1, 0, 1, 2], [3, 2, 1, 0], [0,0,0,0]])\n",
    "allocation = cp.Variable(cost.shape, integer=False)\n",
    "print(cost)\n",
    "b = np.ones((3,3))\n",
    "c = np.zeros((3,3))\n",
    "#b = np.array([100, 100, 100])\n",
    "# Define and solve the CVXPY problem.\n",
    "prob = cp.Problem(cp.Minimize(cp.sum(cp.diag(cost.T@allocation))),\n",
    "                [\n",
    "                    cp.sum(allocation,axis=1) == 1,\n",
    "                    cp.sum(allocation,axis=0) >= 1,\n",
    "                    allocation >= 0\n",
    "                ]\n",
    "                )\n",
    "prob.solve(verbose=False)\n",
    "\n",
    "# Print result.\n",
    "print(\"\\nThe optimal value is\", prob.value)\n",
    "print(\"A solution is\")\n",
    "print(np.round(allocation.value * 100))\n",
    "print(cost.T @ allocation.value)\n",
    "print('residual costs: %f%%' % (100* prob.value / np.sum(cost)))\n",
    "#print(\"A dual solution is\")\n",
    "#print(prob.constraints[0].dual_value)\n"
   ]
  },
  {
   "cell_type": "code",
   "execution_count": 362,
   "metadata": {},
   "outputs": [
    {
     "data": {
      "text/plain": [
       "(58, 58.0)"
      ]
     },
     "execution_count": 362,
     "metadata": {},
     "output_type": "execute_result"
    }
   ],
   "source": [
    "np.sum(cost), np.sum(cost.T@allocation.value)"
   ]
  },
  {
   "cell_type": "code",
   "execution_count": 7,
   "metadata": {},
   "outputs": [
    {
     "name": "stdout",
     "output_type": "stream",
     "text": [
      "45.0\n",
      "[[0 7]\n",
      " [0 7]\n",
      " [0 7]\n",
      " [0 7]\n",
      " [8 1]\n",
      " [8 1]\n",
      " [8 1]\n",
      " [8 1]]\n",
      "[[1 1 1 1 0 0 0 0]\n",
      " [0 0 0 0 1 1 1 1]]\n",
      "allocation costs: [0 4]\n"
     ]
    },
    {
     "data": {
      "text/plain": [
       "64"
      ]
     },
     "execution_count": 7,
     "metadata": {},
     "output_type": "execute_result"
    }
   ],
   "source": [
    "import numpy as np\n",
    "from itertools import combinations\n",
    "from math import inf\n",
    "\n",
    "def state_space_size(n_r=2, n_p=10):\n",
    "    return np.math.factorial(n_p) / np.math.factorial(n_r) / np.math.factorial(n_p - n_r)\n",
    "\n",
    "def get_all_states(n_r=2, n_p=10):\n",
    "    return combinations(range(n_p), n_r)\n",
    "\n",
    "def get_all_allocations(n_r=2, n_p=10):\n",
    "    for p1 in range(n_p):\n",
    "        \n",
    "\n",
    "def get_cost(p, r):\n",
    "    # repeat the positions as columns and rows to prepare for diff\n",
    "    r_mat = np.tile(r, (p.size,1))\n",
    "    #robot_places_mat = np.append(robot_places_mat, np.zeros((picker_places.,)), axis=1)\n",
    "    p_mat = np.tile(p, (r.size,1)).transpose()\n",
    "\n",
    "    #display('robot_places_mat: ', r_mat)\n",
    "    #display('picker_places_mat: ', p_mat)\n",
    "\n",
    "    # calculate costs simply as \n",
    "    cost = np.abs(p_mat - r_mat)\n",
    "    print(cost)\n",
    "    allocation = np.array([[1, 1, 1, 1, 0, 0, 0, 0],[0, 0, 0, 0, 1, 1, 1, 1]])\n",
    "    print(allocation)\n",
    "    print('allocation costs:', np.diag(np.matmul(allocation, cost)))\n",
    "\n",
    "    # add zero costs for unassigned relations (make it square)\n",
    "    #cost = np.append(cost, np.zeros((p.size, p.size - r.size)), axis=1)\n",
    "    #display('costs (rows: pickers, columns: robots): ', cost)\n",
    "\n",
    "    return np.sum(cost)\n",
    "\n",
    "def search_lowest_costs(p, r):\n",
    "    # repeat the positions as columns and rows to prepare for diff\n",
    "    r_mat = np.tile(r, (p.size,1))\n",
    "    #robot_places_mat = np.append(robot_places_mat, np.zeros((picker_places.,)), axis=1)\n",
    "    p_mat = np.tile(p, (r.size,1)).transpose()\n",
    "\n",
    "    #display('robot_places_mat: ', r_mat)\n",
    "    #display('picker_places_mat: ', p_mat)\n",
    "\n",
    "    # calculate costs simply as \n",
    "    cost = np.abs(p_mat - r_mat)\n",
    "\n",
    "    # add zero costs for unassigned relations (make it square)\n",
    "    #cost = np.append(cost, np.zeros((p.size, p.size - r.size)), axis=1)\n",
    "    #display('costs (rows: pickers, columns: robots): ', cost)\n",
    "\n",
    "    return np.sum(cost)\n",
    "\n",
    "def search(states, pickers):\n",
    "    min_costs = inf\n",
    "    best = None\n",
    "    for s in states:\n",
    "        sa =  np.array(s)\n",
    "        #print(sa)\n",
    "        costs = get_cost(pickers, sa)\n",
    "        print(s, costs)\n",
    "        if costs < min_costs:\n",
    "            min_costs = costs\n",
    "            best = s\n",
    "    return best, min_costs\n",
    "\n",
    "number_of_robots = 2\n",
    "number_of_places = 10\n",
    "\n",
    "print(state_space_size(number_of_robots, number_of_places))\n",
    "c = get_all_states(number_of_robots, number_of_places)\n",
    "#print(list(c))\n",
    "\n",
    "\n",
    "pickers = np.array([1, 1, 1, 1, 9, 9, 9, 9])\n",
    "state = np.array([1, 8])\n",
    "\n",
    "get_cost(pickers, state)\n",
    "\n",
    "#search(c, pickers)\n",
    "\n"
   ]
  },
  {
   "cell_type": "code",
   "execution_count": 69,
   "metadata": {},
   "outputs": [
    {
     "data": {
      "text/plain": [
       "27"
      ]
     },
     "execution_count": 69,
     "metadata": {},
     "output_type": "execute_result"
    }
   ],
   "source": [
    "list(combinations(range(8),7))\n",
    "3**3"
   ]
  }
 ],
 "metadata": {
  "kernelspec": {
   "display_name": "Python 3",
   "language": "python",
   "name": "python3"
  },
  "language_info": {
   "codemirror_mode": {
    "name": "ipython",
    "version": 3
   },
   "file_extension": ".py",
   "mimetype": "text/x-python",
   "name": "python",
   "nbconvert_exporter": "python",
   "pygments_lexer": "ipython3",
   "version": "3.11.2"
  },
  "orig_nbformat": 4
 },
 "nbformat": 4,
 "nbformat_minor": 2
}
